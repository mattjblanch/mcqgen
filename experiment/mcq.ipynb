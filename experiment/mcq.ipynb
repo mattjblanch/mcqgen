{
 "cells": [
  {
   "cell_type": "code",
   "execution_count": 309,
   "metadata": {},
   "outputs": [],
   "source": [
    "import os\n",
    "import json\n",
    "import pandas as pd\n",
    "import traceback\n",
    "from langchain.chat_models import ChatOpenAI"
   ]
  },
  {
   "cell_type": "code",
   "execution_count": 310,
   "metadata": {},
   "outputs": [],
   "source": [
    "from dotenv import load_dotenv\n",
    "load_dotenv()\n",
    "KEY=os.getenv('OPENAI_API_KEY')"
   ]
  },
  {
   "cell_type": "code",
   "execution_count": 311,
   "metadata": {},
   "outputs": [],
   "source": [
    "llm = ChatOpenAI(openai_api_key=KEY, model=\"gpt-4-0125-preview\", temperature=0)"
   ]
  },
  {
   "cell_type": "code",
   "execution_count": 312,
   "metadata": {},
   "outputs": [],
   "source": [
    "from langchain.llms import OpenAI\n",
    "from langchain.prompts import PromptTemplate\n",
    "from langchain.chains import LLMChain\n",
    "from langchain.chains import SequentialChain\n",
    "from langchain.callbacks import get_openai_callback\n",
    "\n",
    "import PyPDF2"
   ]
  },
  {
   "cell_type": "code",
   "execution_count": 313,
   "metadata": {},
   "outputs": [],
   "source": [
    "NUMBER=10\n",
    "SUBJECT=\"marijuana\"\n",
    "TONE=\"Technical stoner conniseur\""
   ]
  },
  {
   "cell_type": "code",
   "execution_count": 314,
   "metadata": {},
   "outputs": [],
   "source": [
    "RESPONSE_JSON = {\n",
    "    \"1\": {\n",
    "        \"mcq\": \"multiple choice question\",\n",
    "        \"option\": {\n",
    "            \"a\": \"choice here\",\n",
    "            \"b\": \"choice here\",\n",
    "            \"c\": \"choice here\",\n",
    "            \"d\": \"choice here\",\n",
    "        },\n",
    "        \"correct\": \"correct answer here\"\n",
    "    },\n",
    "    \"2\": {\n",
    "        \"mcq\": \"multiple choice question\",\n",
    "        \"option\": {\n",
    "            \"a\": \"choice here\",\n",
    "            \"b\": \"choice here\",\n",
    "            \"c\": \"choice here\",\n",
    "            \"d\": \"choice here\",\n",
    "        },\n",
    "        \"correct\": \"correct answer here\"\n",
    "    },\n",
    "    \"3\": {\n",
    "        \"mcq\": \"multiple choice question\",\n",
    "        \"option\": {\n",
    "            \"a\": \"choice here\",\n",
    "            \"b\": \"choice here\",\n",
    "            \"c\": \"choice here\",\n",
    "            \"d\": \"choice here\",\n",
    "        },\n",
    "        \"correct\": \"correct answer here\"\n",
    "    },\n",
    "}"
   ]
  },
  {
   "cell_type": "code",
   "execution_count": 315,
   "metadata": {},
   "outputs": [],
   "source": [
    "TEMPLATE=\"\"\"\n",
    "Text: {text}\n",
    "You are an expert Multiple Choice Question writer. \n",
    "You have been asked to write a multiple choice question based on the {text} and {subject}. \n",
    "The question should be challenging and test the reader's understanding of the text. \n",
    "The questions should not be repeated, and correct answer should be checked with question.\n",
    "The question should have {number} answer choices, with one correct answer and three distractors. \n",
    "The question should be multiple choice and have only one correct answer. \n",
    "The question should be clear and concise. \n",
    "The question should be in {tone} tone.\n",
    "ensure that there are {number} of multiple choice questions.\n",
    "Make sure to format your response like RESPONSE_JSON below and use it as a guide, and be sure to return valid json dixtionry as string as this will be used.\n",
    "{response_json}\n",
    "\"\"\""
   ]
  },
  {
   "cell_type": "code",
   "execution_count": 316,
   "metadata": {},
   "outputs": [],
   "source": [
    "quiz_generateion_prompt = PromptTemplate(\n",
    "    input_variables=[\"text\", \"number\",\"subject\", \"tone\", \"response_json\"],\n",
    "    template=TEMPLATE\n",
    ")"
   ]
  },
  {
   "cell_type": "code",
   "execution_count": 317,
   "metadata": {},
   "outputs": [],
   "source": [
    "quiz_chain=LLMChain(llm=llm, prompt=quiz_generateion_prompt, output_key=\"quiz\", verbose=True)"
   ]
  },
  {
   "cell_type": "code",
   "execution_count": 318,
   "metadata": {},
   "outputs": [],
   "source": [
    "TEMPLATE2=\"\"\"\n",
    "You are an expert english grammarian and writer. Given a Multiple Choice Quiz for {subject} students.\n",
    "You need to evaluate the complexity of the question and give a complete analysis of the quiz. Only use at max 50 words for complete analysis.\n",
    "if the quiz is not at par with the cognitive and analytical skills of the students,\n",
    "update the quiz questions which needs to be changed and the tone such that it perfectly fits the student abilities\n",
    "Quiz_MCQs: {quiz}\n",
    "\n",
    "Check from an expert English writer of the above quiz and update the quiz questions and tone to fit the student abilities.\n",
    "\n",
    "\"\"\""
   ]
  },
  {
   "cell_type": "code",
   "execution_count": 319,
   "metadata": {},
   "outputs": [],
   "source": [
    "quiz_evaluation_prompt=PromptTemplate(input_variables=[\"subject\", \"quiz\"], template=TEMPLATE2)"
   ]
  },
  {
   "cell_type": "code",
   "execution_count": 320,
   "metadata": {},
   "outputs": [],
   "source": [
    "review_chain=LLMChain(llm=llm, prompt=quiz_evaluation_prompt, output_key=\"review\", verbose=True)"
   ]
  },
  {
   "cell_type": "code",
   "execution_count": 321,
   "metadata": {},
   "outputs": [],
   "source": [
    "generate_evaluate_chain=SequentialChain(chains=[quiz_chain, review_chain], input_variables=[\"text\",\"number\",\"subject\",\"tone\", \"response_json\"], output_variables=[\"quiz\", \"review\"], verbose=True)"
   ]
  },
  {
   "cell_type": "code",
   "execution_count": 322,
   "metadata": {},
   "outputs": [],
   "source": [
    "from langchain.tools import WikipediaQueryRun\n",
    "from langchain_community.utilities import WikipediaAPIWrapper"
   ]
  },
  {
   "cell_type": "code",
   "execution_count": 323,
   "metadata": {},
   "outputs": [],
   "source": [
    "wikipedia = WikipediaQueryRun(api_wrapper=WikipediaAPIWrapper())"
   ]
  },
  {
   "cell_type": "code",
   "execution_count": 324,
   "metadata": {},
   "outputs": [],
   "source": [
    "subject_text = wikipedia.run(SUBJECT)"
   ]
  },
  {
   "cell_type": "code",
   "execution_count": 325,
   "metadata": {},
   "outputs": [
    {
     "name": "stdout",
     "output_type": "stream",
     "text": [
      "Page: Cannabis (drug)\n",
      "Summary: Cannabis, also known as marijuana or weed among other names, is a psychoactive drug from the cannabis plant. Native to Central or South Asia, the cannabis plant has been used as a drug for both recreational and entheogenic purposes and in various traditional medicines for centuries. Tetrahydrocannabinol (THC) is the main psychoactive component of cannabis, which is one of the 483 known compounds in the plant, including at least 65 other cannabinoids, such as cannabidiol (CBD). Cannabis can be used by smoking, vaporizing, within food, or as an extract.\n",
      "Cannabis has various mental and physical effects, which include euphoria, altered states of mind and sense of time, difficulty concentrating, impaired short-term memory, impaired body movement (balance and fine psychomotor control), relaxation, and an increase in appetite. Onset of effects is felt within minutes when smoked, but may take up to 90 minutes when eaten (as orally consumed drugs must be metabolized). The effects last for two to six hours, depending on the amount used. At high doses, mental effects can include anxiety, delusions (including ideas of reference), hallucinations, panic, paranoia, and psychosis. There is a strong relation between cannabis use and the risk of psychosis, though the direction of causality is debated. Physical effects include increased heart rate, difficulty breathing, nausea, and behavioral problems in children whose mothers used cannabis during pregnancy; short-term side effects may also include dry mouth and red eyes. Long-term adverse effects may include addiction, decreased mental ability in those who started regular use as adolescents, chronic coughing, susceptibility to respiratory infections, and cannabinoid hyperemesis syndrome.\n",
      "Cannabis is mostly used recreationally or as a medicinal drug, although it may also be used for spiritual purposes. In 2013, between 128 and 232 million people used cannabis (2.7% to 4.9% of the global population between the ages of 15 and 65). It is the most commonly used largely-illegal drug in the world, with the highest use among adults in Zambia, the United States, Canada, and Nigeria. Since the 1970s, the potency of illicit cannabis has increased, with THC levels rising and CBD levels dropping.\n",
      "Cannabis plants have been grown since at least the 3rd millennium BCE and there is evidence of it being smoked for its psychoactive effects around 500 BCE in the Pamir Mountains, Central Asia. Since the 14th century, cannabis has been subject to legal restrictions. The possession, use, and cultivation of cannabis has been illegal in most countries since the 20th century. In 2013, Uruguay became the first country to legalize recreational use of cannabis. Other countries to do so are Canada, Georgia, Germany, Luxembourg, Malta, Mexico, South Africa, and Thailand. In the U.S., the recreational use of cannabis is legalized in 24 states, 3 territories, and the District of Columbia, though the drug remains federally illegal. In Australia, it is legalized only in the Australian Capital Territory.\n",
      "\n",
      "Page: Legality of cannabis\n",
      "Summary: The legality of cannabis for medical and recreational use varies by country, in terms of its possession, distribution, and cultivation, and (in regards to medical) how it can be consumed and what medical conditions it can be used for. These policies in most countries are regulated by three United Nations treaties: the 1961 Single Convention on Narcotic Drugs, the 1971 Convention on Psychotropic Substances, and the 1988 Convention Against Illicit Traffic in Narcotic Drugs and Psychotropic Substances. Since its descheduling in 2020, cannabis is classified as a Schedule I drug under the Single Convention treaty, meaning that signatories can allow medical use but that it is considered to be an addictive drug with a serious risk of abuse.The use of cannabis for recreational purposes is prohibited in most countries; however, many have adopted a policy of decriminalizat\n"
     ]
    }
   ],
   "source": [
    "print(subject_text)"
   ]
  },
  {
   "cell_type": "code",
   "execution_count": 326,
   "metadata": {},
   "outputs": [],
   "source": [
    "file_path = \"../data.txt\""
   ]
  },
  {
   "cell_type": "code",
   "execution_count": 327,
   "metadata": {},
   "outputs": [],
   "source": [
    "with open(file_path, 'w', encoding='utf-8') as file:\n",
    "    file.write(subject_text)\n"
   ]
  },
  {
   "cell_type": "code",
   "execution_count": 328,
   "metadata": {},
   "outputs": [],
   "source": [
    "with open (file_path, 'r', encoding='utf-8') as file:\n",
    "    TEXT = file.read()"
   ]
  },
  {
   "cell_type": "code",
   "execution_count": 329,
   "metadata": {},
   "outputs": [
    {
     "data": {
      "text/plain": [
       "'{\"1\": {\"mcq\": \"multiple choice question\", \"option\": {\"a\": \"choice here\", \"b\": \"choice here\", \"c\": \"choice here\", \"d\": \"choice here\"}, \"correct\": \"correct answer here\"}, \"2\": {\"mcq\": \"multiple choice question\", \"option\": {\"a\": \"choice here\", \"b\": \"choice here\", \"c\": \"choice here\", \"d\": \"choice here\"}, \"correct\": \"correct answer here\"}, \"3\": {\"mcq\": \"multiple choice question\", \"option\": {\"a\": \"choice here\", \"b\": \"choice here\", \"c\": \"choice here\", \"d\": \"choice here\"}, \"correct\": \"correct answer here\"}}'"
      ]
     },
     "execution_count": 329,
     "metadata": {},
     "output_type": "execute_result"
    }
   ],
   "source": [
    "# Serialize the python dictionary into a JSON-formatted string\n",
    "json.dumps(RESPONSE_JSON)"
   ]
  },
  {
   "cell_type": "code",
   "execution_count": 330,
   "metadata": {},
   "outputs": [
    {
     "name": "stdout",
     "output_type": "stream",
     "text": [
      "\n",
      "\n",
      "\u001b[1m> Entering new SequentialChain chain...\u001b[0m\n",
      "\n",
      "\n",
      "\u001b[1m> Entering new LLMChain chain...\u001b[0m\n",
      "Prompt after formatting:\n",
      "\u001b[32;1m\u001b[1;3m\n",
      "Text: Page: Cannabis (drug)\n",
      "Summary: Cannabis, also known as marijuana or weed among other names, is a psychoactive drug from the cannabis plant. Native to Central or South Asia, the cannabis plant has been used as a drug for both recreational and entheogenic purposes and in various traditional medicines for centuries. Tetrahydrocannabinol (THC) is the main psychoactive component of cannabis, which is one of the 483 known compounds in the plant, including at least 65 other cannabinoids, such as cannabidiol (CBD). Cannabis can be used by smoking, vaporizing, within food, or as an extract.\n",
      "Cannabis has various mental and physical effects, which include euphoria, altered states of mind and sense of time, difficulty concentrating, impaired short-term memory, impaired body movement (balance and fine psychomotor control), relaxation, and an increase in appetite. Onset of effects is felt within minutes when smoked, but may take up to 90 minutes when eaten (as orally consumed drugs must be metabolized). The effects last for two to six hours, depending on the amount used. At high doses, mental effects can include anxiety, delusions (including ideas of reference), hallucinations, panic, paranoia, and psychosis. There is a strong relation between cannabis use and the risk of psychosis, though the direction of causality is debated. Physical effects include increased heart rate, difficulty breathing, nausea, and behavioral problems in children whose mothers used cannabis during pregnancy; short-term side effects may also include dry mouth and red eyes. Long-term adverse effects may include addiction, decreased mental ability in those who started regular use as adolescents, chronic coughing, susceptibility to respiratory infections, and cannabinoid hyperemesis syndrome.\n",
      "Cannabis is mostly used recreationally or as a medicinal drug, although it may also be used for spiritual purposes. In 2013, between 128 and 232 million people used cannabis (2.7% to 4.9% of the global population between the ages of 15 and 65). It is the most commonly used largely-illegal drug in the world, with the highest use among adults in Zambia, the United States, Canada, and Nigeria. Since the 1970s, the potency of illicit cannabis has increased, with THC levels rising and CBD levels dropping.\n",
      "Cannabis plants have been grown since at least the 3rd millennium BCE and there is evidence of it being smoked for its psychoactive effects around 500 BCE in the Pamir Mountains, Central Asia. Since the 14th century, cannabis has been subject to legal restrictions. The possession, use, and cultivation of cannabis has been illegal in most countries since the 20th century. In 2013, Uruguay became the first country to legalize recreational use of cannabis. Other countries to do so are Canada, Georgia, Germany, Luxembourg, Malta, Mexico, South Africa, and Thailand. In the U.S., the recreational use of cannabis is legalized in 24 states, 3 territories, and the District of Columbia, though the drug remains federally illegal. In Australia, it is legalized only in the Australian Capital Territory.\n",
      "\n",
      "Page: Legality of cannabis\n",
      "Summary: The legality of cannabis for medical and recreational use varies by country, in terms of its possession, distribution, and cultivation, and (in regards to medical) how it can be consumed and what medical conditions it can be used for. These policies in most countries are regulated by three United Nations treaties: the 1961 Single Convention on Narcotic Drugs, the 1971 Convention on Psychotropic Substances, and the 1988 Convention Against Illicit Traffic in Narcotic Drugs and Psychotropic Substances. Since its descheduling in 2020, cannabis is classified as a Schedule I drug under the Single Convention treaty, meaning that signatories can allow medical use but that it is considered to be an addictive drug with a serious risk of abuse.The use of cannabis for recreational purposes is prohibited in most countries; however, many have adopted a policy of decriminalizat\n",
      "You are an expert Multiple Choice Question writer. \n",
      "You have been asked to write a multiple choice question based on the Page: Cannabis (drug)\n",
      "Summary: Cannabis, also known as marijuana or weed among other names, is a psychoactive drug from the cannabis plant. Native to Central or South Asia, the cannabis plant has been used as a drug for both recreational and entheogenic purposes and in various traditional medicines for centuries. Tetrahydrocannabinol (THC) is the main psychoactive component of cannabis, which is one of the 483 known compounds in the plant, including at least 65 other cannabinoids, such as cannabidiol (CBD). Cannabis can be used by smoking, vaporizing, within food, or as an extract.\n",
      "Cannabis has various mental and physical effects, which include euphoria, altered states of mind and sense of time, difficulty concentrating, impaired short-term memory, impaired body movement (balance and fine psychomotor control), relaxation, and an increase in appetite. Onset of effects is felt within minutes when smoked, but may take up to 90 minutes when eaten (as orally consumed drugs must be metabolized). The effects last for two to six hours, depending on the amount used. At high doses, mental effects can include anxiety, delusions (including ideas of reference), hallucinations, panic, paranoia, and psychosis. There is a strong relation between cannabis use and the risk of psychosis, though the direction of causality is debated. Physical effects include increased heart rate, difficulty breathing, nausea, and behavioral problems in children whose mothers used cannabis during pregnancy; short-term side effects may also include dry mouth and red eyes. Long-term adverse effects may include addiction, decreased mental ability in those who started regular use as adolescents, chronic coughing, susceptibility to respiratory infections, and cannabinoid hyperemesis syndrome.\n",
      "Cannabis is mostly used recreationally or as a medicinal drug, although it may also be used for spiritual purposes. In 2013, between 128 and 232 million people used cannabis (2.7% to 4.9% of the global population between the ages of 15 and 65). It is the most commonly used largely-illegal drug in the world, with the highest use among adults in Zambia, the United States, Canada, and Nigeria. Since the 1970s, the potency of illicit cannabis has increased, with THC levels rising and CBD levels dropping.\n",
      "Cannabis plants have been grown since at least the 3rd millennium BCE and there is evidence of it being smoked for its psychoactive effects around 500 BCE in the Pamir Mountains, Central Asia. Since the 14th century, cannabis has been subject to legal restrictions. The possession, use, and cultivation of cannabis has been illegal in most countries since the 20th century. In 2013, Uruguay became the first country to legalize recreational use of cannabis. Other countries to do so are Canada, Georgia, Germany, Luxembourg, Malta, Mexico, South Africa, and Thailand. In the U.S., the recreational use of cannabis is legalized in 24 states, 3 territories, and the District of Columbia, though the drug remains federally illegal. In Australia, it is legalized only in the Australian Capital Territory.\n",
      "\n",
      "Page: Legality of cannabis\n",
      "Summary: The legality of cannabis for medical and recreational use varies by country, in terms of its possession, distribution, and cultivation, and (in regards to medical) how it can be consumed and what medical conditions it can be used for. These policies in most countries are regulated by three United Nations treaties: the 1961 Single Convention on Narcotic Drugs, the 1971 Convention on Psychotropic Substances, and the 1988 Convention Against Illicit Traffic in Narcotic Drugs and Psychotropic Substances. Since its descheduling in 2020, cannabis is classified as a Schedule I drug under the Single Convention treaty, meaning that signatories can allow medical use but that it is considered to be an addictive drug with a serious risk of abuse.The use of cannabis for recreational purposes is prohibited in most countries; however, many have adopted a policy of decriminalizat and marijuana. \n",
      "The question should be challenging and test the reader's understanding of the text. \n",
      "The questions should not be repeated, and correct answer should be checked with question.\n",
      "The question should have 10 answer choices, with one correct answer and three distractors. \n",
      "The question should be multiple choice and have only one correct answer. \n",
      "The question should be clear and concise. \n",
      "The question should be in Technical stoner conniseur tone.\n",
      "ensure that there are 10 of multiple choice questions.\n",
      "Make sure to format your response like RESPONSE_JSON below and use it as a guide, and be sure to return valid json dixtionry as string as this will be used.\n",
      "{\"1\": {\"mcq\": \"multiple choice question\", \"option\": {\"a\": \"choice here\", \"b\": \"choice here\", \"c\": \"choice here\", \"d\": \"choice here\"}, \"correct\": \"correct answer here\"}, \"2\": {\"mcq\": \"multiple choice question\", \"option\": {\"a\": \"choice here\", \"b\": \"choice here\", \"c\": \"choice here\", \"d\": \"choice here\"}, \"correct\": \"correct answer here\"}, \"3\": {\"mcq\": \"multiple choice question\", \"option\": {\"a\": \"choice here\", \"b\": \"choice here\", \"c\": \"choice here\", \"d\": \"choice here\"}, \"correct\": \"correct answer here\"}}\n",
      "\u001b[0m\n",
      "\n",
      "\u001b[1m> Finished chain.\u001b[0m\n",
      "\n",
      "\n",
      "\u001b[1m> Entering new LLMChain chain...\u001b[0m\n",
      "Prompt after formatting:\n",
      "\u001b[32;1m\u001b[1;3m\n",
      "You are an expert english grammarian and writer. Given a Multiple Choice Quiz for marijuana students.\n",
      "You need to evaluate the complexity of the question and give a complete analysis of the quiz. Only use at max 50 words for complete analysis.\n",
      "if the quiz is not at par with the cognitive and analytical skills of the students,\n",
      "update the quiz questions which needs to be changed and the tone such that it perfectly fits the student abilities\n",
      "Quiz_MCQs: ```json\n",
      "{\n",
      "  \"1\": {\n",
      "    \"mcq\": \"What is the main psychoactive component found in cannabis?\",\n",
      "    \"option\": {\n",
      "      \"a\": \"Cannabidiol (CBD)\",\n",
      "      \"b\": \"Tetrahydrocannabinol (THC)\",\n",
      "      \"c\": \"Cannabinol (CBN)\",\n",
      "      \"d\": \"Tetrahydrocannabivarin (THCV)\"\n",
      "    },\n",
      "    \"correct\": \"b\"\n",
      "  },\n",
      "  \"2\": {\n",
      "    \"mcq\": \"As of 2013, which country was NOT listed as having the highest use of cannabis among adults?\",\n",
      "    \"option\": {\n",
      "      \"a\": \"Zambia\",\n",
      "      \"b\": \"United States\",\n",
      "      \"c\": \"Canada\",\n",
      "      \"d\": \"France\"\n",
      "    },\n",
      "    \"correct\": \"d\"\n",
      "  },\n",
      "  \"3\": {\n",
      "    \"mcq\": \"Which method of cannabis consumption can take up to 90 minutes for effects to be felt?\",\n",
      "    \"option\": {\n",
      "      \"a\": \"Smoking\",\n",
      "      \"b\": \"Vaporizing\",\n",
      "      \"c\": \"Within food\",\n",
      "      \"d\": \"As an extract\"\n",
      "    },\n",
      "    \"correct\": \"c\"\n",
      "  },\n",
      "  \"4\": {\n",
      "    \"mcq\": \"What is a potential long-term adverse effect of cannabis use, particularly in those who started regular use as adolescents?\",\n",
      "    \"option\": {\n",
      "      \"a\": \"Increased appetite\",\n",
      "      \"b\": \"Decreased mental ability\",\n",
      "      \"c\": \"Euphoria\",\n",
      "      \"d\": \"Altered sense of time\"\n",
      "    },\n",
      "    \"correct\": \"b\"\n",
      "  },\n",
      "  \"5\": {\n",
      "    \"mcq\": \"Which country was the first to legalize recreational use of cannabis in 2013?\",\n",
      "    \"option\": {\n",
      "      \"a\": \"Canada\",\n",
      "      \"b\": \"Uruguay\",\n",
      "      \"c\": \"Germany\",\n",
      "      \"d\": \"South Africa\"\n",
      "    },\n",
      "    \"correct\": \"b\"\n",
      "  },\n",
      "  \"6\": {\n",
      "    \"mcq\": \"What is NOT a physical effect of cannabis use?\",\n",
      "    \"option\": {\n",
      "      \"a\": \"Increased heart rate\",\n",
      "      \"b\": \"Difficulty breathing\",\n",
      "      \"c\": \"Nausea\",\n",
      "      \"d\": \"Increased psychomotor control\"\n",
      "    },\n",
      "    \"correct\": \"d\"\n",
      "  },\n",
      "  \"7\": {\n",
      "    \"mcq\": \"Which of the following is a use of cannabis besides recreational or medicinal?\",\n",
      "    \"option\": {\n",
      "      \"a\": \"Spiritual purposes\",\n",
      "      \"b\": \"Industrial lubricant\",\n",
      "      \"c\": \"Water purification\",\n",
      "      \"d\": \"Soil stabilization\"\n",
      "    },\n",
      "    \"correct\": \"a\"\n",
      "  },\n",
      "  \"8\": {\n",
      "    \"mcq\": \"How many known compounds are in the cannabis plant, including cannabinoids?\",\n",
      "    \"option\": {\n",
      "      \"a\": \"Over 300\",\n",
      "      \"b\": \"Exactly 420\",\n",
      "      \"c\": \"483\",\n",
      "      \"d\": \"More than 500\"\n",
      "    },\n",
      "    \"correct\": \"c\"\n",
      "  },\n",
      "  \"9\": {\n",
      "    \"mcq\": \"Which cannabinoid is known for not being psychoactive?\",\n",
      "    \"option\": {\n",
      "      \"a\": \"Tetrahydrocannabinol (THC)\",\n",
      "      \"b\": \"Cannabidiol (CBD)\",\n",
      "      \"c\": \"Cannabinol (CBN)\",\n",
      "      \"d\": \"Tetrahydrocannabivarin (THCV)\"\n",
      "    },\n",
      "    \"correct\": \"b\"\n",
      "  },\n",
      "  \"10\": {\n",
      "    \"mcq\": \"In which territory is cannabis legalized only in the Australian Capital Territory?\",\n",
      "    \"option\": {\n",
      "      \"a\": \"United States\",\n",
      "      \"b\": \"Canada\",\n",
      "      \"c\": \"Australia\",\n",
      "      \"d\": \"Germany\"\n",
      "    },\n",
      "    \"correct\": \"c\"\n",
      "  }\n",
      "}\n",
      "```\n",
      "\n",
      "Check from an expert English writer of the above quiz and update the quiz questions and tone to fit the student abilities.\n",
      "\n",
      "\u001b[0m\n",
      "\n",
      "\u001b[1m> Finished chain.\u001b[0m\n",
      "\n",
      "\u001b[1m> Finished chain.\u001b[0m\n",
      "Total Tokens: 4025\n",
      "Prompt Tokens: 2901\n",
      "Completion Tokens: 1124\n",
      "Total Cost (USD): $0.06273\n"
     ]
    }
   ],
   "source": [
    "# How to set up token usage tracking in langchain\n",
    "\n",
    "with get_openai_callback() as cb:\n",
    "    response=generate_evaluate_chain(\n",
    "        {\n",
    "            \"text\": TEXT, \n",
    "            \"number\": NUMBER,\n",
    "            \"subject\": SUBJECT,\n",
    "            \"tone\":TONE,\n",
    "            \"response_json\": json.dumps(RESPONSE_JSON),\n",
    "        }\n",
    "    )\n",
    "print(f\"Total Tokens: {cb.total_tokens}\")\n",
    "print(f\"Prompt Tokens: {cb.prompt_tokens}\")\n",
    "print(f\"Completion Tokens: {cb.completion_tokens}\")\n",
    "print(f\"Total Cost (USD): ${cb.total_cost}\")"
   ]
  },
  {
   "cell_type": "code",
   "execution_count": 331,
   "metadata": {},
   "outputs": [],
   "source": [
    "quiz=response.get(\"quiz\")\n",
    "quiz = quiz.replace(\"```json\\n\",\"\").replace(\"\\n```\",\"\")\n",
    "quiz = json.loads(quiz)\n"
   ]
  },
  {
   "cell_type": "code",
   "execution_count": 332,
   "metadata": {},
   "outputs": [
    {
     "name": "stdout",
     "output_type": "stream",
     "text": [
      "The quiz is well-structured, covering a broad range of topics related to cannabis, from its components and effects to legal status and uses. The language is clear and accessible, suitable for students with a basic understanding of the subject. However, to ensure it aligns perfectly with student abilities and maintains engagement, consider the following adjustments for clarity and inclusivity:\n",
      "\n",
      "1. No change needed. The question is clear and straightforward.\n",
      "2. Update for clarity and relevance: \"As of 2013, which of these countries had the lowest reported adult use of cannabis?\"\n",
      "3. Clarify consumption method: \"Which consumption method of cannabis typically takes the longest for effects to be felt?\"\n",
      "4. Simplify and clarify: \"What is a potential long-term effect of starting regular cannabis use in adolescence?\"\n",
      "5. Update for precision: \"Which was the first country to legalize recreational cannabis use, doing so in 2013?\"\n",
      "6. Simplify language: \"Which is NOT a common physical effect of using cannabis?\"\n",
      "7. Broaden options for accuracy: \"Besides recreational or medicinal, name another use for cannabis.\"\n",
      "8. Clarify and simplify: \"Approximately how many compounds, including cannabinoids, are found in the cannabis plant?\"\n",
      "9. Simplify for clarity: \"Which cannabinoid is known to have no psychoactive effects?\"\n",
      "10. Update for specificity: \"In which country is cannabis legal only in the Australian Capital Territory?\"\n",
      "\n",
      "These adjustments ensure questions are direct and inclusive, making the quiz more engaging and understandable for students at various levels of familiarity with the subject matter.\n"
     ]
    }
   ],
   "source": [
    "print(response.get(\"review\"))"
   ]
  },
  {
   "cell_type": "code",
   "execution_count": 333,
   "metadata": {},
   "outputs": [],
   "source": [
    "quiz_table_data = []\n",
    "for key, value in quiz.items():\n",
    "    mcq = value[\"mcq\"]\n",
    "    options = \" | \".join([\n",
    "        f\"{option}: {option_value}\"\n",
    "        for option, option_value in value[\"option\"].items()\n",
    "    ])\n",
    "    correct = value[\"correct\"]\n",
    "    quiz_table_data.append([key, mcq, options, correct])"
   ]
  },
  {
   "cell_type": "code",
   "execution_count": 334,
   "metadata": {},
   "outputs": [
    {
     "data": {
      "text/plain": [
       "[['1',\n",
       "  'What is the main psychoactive component found in cannabis?',\n",
       "  'a: Cannabidiol (CBD) | b: Tetrahydrocannabinol (THC) | c: Cannabinol (CBN) | d: Tetrahydrocannabivarin (THCV)',\n",
       "  'b'],\n",
       " ['2',\n",
       "  'As of 2013, which country was NOT listed as having the highest use of cannabis among adults?',\n",
       "  'a: Zambia | b: United States | c: Canada | d: France',\n",
       "  'd'],\n",
       " ['3',\n",
       "  'Which method of cannabis consumption can take up to 90 minutes for effects to be felt?',\n",
       "  'a: Smoking | b: Vaporizing | c: Within food | d: As an extract',\n",
       "  'c'],\n",
       " ['4',\n",
       "  'What is a potential long-term adverse effect of cannabis use, particularly in those who started regular use as adolescents?',\n",
       "  'a: Increased appetite | b: Decreased mental ability | c: Euphoria | d: Altered sense of time',\n",
       "  'b'],\n",
       " ['5',\n",
       "  'Which country was the first to legalize recreational use of cannabis in 2013?',\n",
       "  'a: Canada | b: Uruguay | c: Germany | d: South Africa',\n",
       "  'b'],\n",
       " ['6',\n",
       "  'What is NOT a physical effect of cannabis use?',\n",
       "  'a: Increased heart rate | b: Difficulty breathing | c: Nausea | d: Increased psychomotor control',\n",
       "  'd'],\n",
       " ['7',\n",
       "  'Which of the following is a use of cannabis besides recreational or medicinal?',\n",
       "  'a: Spiritual purposes | b: Industrial lubricant | c: Water purification | d: Soil stabilization',\n",
       "  'a'],\n",
       " ['8',\n",
       "  'How many known compounds are in the cannabis plant, including cannabinoids?',\n",
       "  'a: Over 300 | b: Exactly 420 | c: 483 | d: More than 500',\n",
       "  'c'],\n",
       " ['9',\n",
       "  'Which cannabinoid is known for not being psychoactive?',\n",
       "  'a: Tetrahydrocannabinol (THC) | b: Cannabidiol (CBD) | c: Cannabinol (CBN) | d: Tetrahydrocannabivarin (THCV)',\n",
       "  'b'],\n",
       " ['10',\n",
       "  'In which territory is cannabis legalized only in the Australian Capital Territory?',\n",
       "  'a: United States | b: Canada | c: Australia | d: Germany',\n",
       "  'c']]"
      ]
     },
     "execution_count": 334,
     "metadata": {},
     "output_type": "execute_result"
    }
   ],
   "source": [
    "quiz_table_data"
   ]
  },
  {
   "cell_type": "code",
   "execution_count": 335,
   "metadata": {},
   "outputs": [],
   "source": [
    "quiz=pd.DataFrame(quiz_table_data, columns=[\"Question Number\", \"Question\", \"Options\", \"Correct Answer\"])"
   ]
  },
  {
   "cell_type": "code",
   "execution_count": 336,
   "metadata": {},
   "outputs": [
    {
     "data": {
      "text/plain": [
       "pandas.core.frame.DataFrame"
      ]
     },
     "execution_count": 336,
     "metadata": {},
     "output_type": "execute_result"
    }
   ],
   "source": [
    "type(quiz)"
   ]
  },
  {
   "cell_type": "code",
   "execution_count": 337,
   "metadata": {},
   "outputs": [],
   "source": [
    "quiz.to_csv(f\"{SUBJECT}.csv\",index=False)"
   ]
  },
  {
   "cell_type": "code",
   "execution_count": null,
   "metadata": {},
   "outputs": [],
   "source": []
  }
 ],
 "metadata": {
  "kernelspec": {
   "display_name": "Python 3",
   "language": "python",
   "name": "python3"
  },
  "language_info": {
   "codemirror_mode": {
    "name": "ipython",
    "version": 3
   },
   "file_extension": ".py",
   "mimetype": "text/x-python",
   "name": "python",
   "nbconvert_exporter": "python",
   "pygments_lexer": "ipython3",
   "version": "3.8.19"
  }
 },
 "nbformat": 4,
 "nbformat_minor": 2
}
